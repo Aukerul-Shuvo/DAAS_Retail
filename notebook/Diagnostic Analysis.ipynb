{
 "cells": [
  {
   "cell_type": "code",
   "execution_count": null,
   "id": "1883d582",
   "metadata": {
    "jupyter": {
     "outputs_hidden": true
    },
    "tags": []
   },
   "outputs": [],
   "source": [
    "import pandas as pd\n",
    "\n",
    "df = pd.read_csv ('../data/cleaned_online_retail.csv')\n",
    "print (df)"
   ]
  },
  {
   "cell_type": "code",
   "execution_count": 2,
   "id": "11d9fa01",
   "metadata": {},
   "outputs": [
    {
     "name": "stdout",
     "output_type": "stream",
     "text": [
      "<class 'pandas.core.frame.DataFrame'>\n",
      "RangeIndex: 406829 entries, 0 to 406828\n",
      "Data columns (total 9 columns):\n",
      " #   Column       Non-Null Count   Dtype  \n",
      "---  ------       --------------   -----  \n",
      " 0   Unnamed: 0   406829 non-null  int64  \n",
      " 1   invoiceno    406829 non-null  object \n",
      " 2   stockcode    406829 non-null  object \n",
      " 3   description  406829 non-null  object \n",
      " 4   quantity     406829 non-null  int64  \n",
      " 5   invoicedate  406829 non-null  object \n",
      " 6   unitprice    406829 non-null  float64\n",
      " 7   customerid   406829 non-null  float64\n",
      " 8   country      406829 non-null  object \n",
      "dtypes: float64(2), int64(2), object(5)\n",
      "memory usage: 27.9+ MB\n"
     ]
    }
   ],
   "source": [
    "df.info()"
   ]
  },
  {
   "cell_type": "code",
   "execution_count": 3,
   "id": "c993f6aa-12ea-44f6-804d-53a2faf8939e",
   "metadata": {},
   "outputs": [
    {
     "name": "stdout",
     "output_type": "stream",
     "text": [
      "Index(['Unnamed: 0', 'invoiceno', 'stockcode', 'description', 'quantity',\n",
      "       'invoicedate', 'unitprice', 'customerid', 'country'],\n",
      "      dtype='object')\n"
     ]
    }
   ],
   "source": [
    "print(df.columns)"
   ]
  },
  {
   "cell_type": "code",
   "execution_count": 4,
   "id": "2bbf5eb4-fd61-4881-a173-7f63b483bac1",
   "metadata": {},
   "outputs": [
    {
     "name": "stdout",
     "output_type": "stream",
     "text": [
      "Index(['invoiceno', 'stockcode', 'description', 'quantity', 'invoicedate',\n",
      "       'unitprice', 'customerid', 'country'],\n",
      "      dtype='object')\n"
     ]
    }
   ],
   "source": [
    "#Dropping unnecessary columns\n",
    "df.drop(['Unnamed: 0'], axis=1, inplace=True)\n",
    "print(df.columns)"
   ]
  },
  {
   "cell_type": "code",
   "execution_count": 5,
   "id": "fa45cd50-b1c6-4919-adf5-7ec30297f839",
   "metadata": {},
   "outputs": [],
   "source": [
    "#Extracting year and month from invoicedate\n",
    "\n",
    "df['year'] = pd.DatetimeIndex(df['invoicedate']).year\n",
    "df['month'] = pd.DatetimeIndex(df['invoicedate']).month"
   ]
  },
  {
   "cell_type": "code",
   "execution_count": 6,
   "id": "b34a6afd",
   "metadata": {
    "scrolled": true
   },
   "outputs": [
    {
     "data": {
      "text/html": [
       "<div>\n",
       "<style scoped>\n",
       "    .dataframe tbody tr th:only-of-type {\n",
       "        vertical-align: middle;\n",
       "    }\n",
       "\n",
       "    .dataframe tbody tr th {\n",
       "        vertical-align: top;\n",
       "    }\n",
       "\n",
       "    .dataframe thead th {\n",
       "        text-align: right;\n",
       "    }\n",
       "</style>\n",
       "<table border=\"1\" class=\"dataframe\">\n",
       "  <thead>\n",
       "    <tr style=\"text-align: right;\">\n",
       "      <th></th>\n",
       "      <th>invoiceno</th>\n",
       "      <th>stockcode</th>\n",
       "      <th>description</th>\n",
       "      <th>quantity</th>\n",
       "      <th>invoicedate</th>\n",
       "      <th>unitprice</th>\n",
       "      <th>customerid</th>\n",
       "      <th>country</th>\n",
       "      <th>year</th>\n",
       "      <th>month</th>\n",
       "    </tr>\n",
       "  </thead>\n",
       "  <tbody>\n",
       "    <tr>\n",
       "      <th>0</th>\n",
       "      <td>536365</td>\n",
       "      <td>85123A</td>\n",
       "      <td>WHITE HANGING HEART T-LIGHT HOLDER</td>\n",
       "      <td>6</td>\n",
       "      <td>2010-12-01T08:26:00</td>\n",
       "      <td>2.55</td>\n",
       "      <td>17850.0</td>\n",
       "      <td>United Kingdom</td>\n",
       "      <td>2010</td>\n",
       "      <td>12</td>\n",
       "    </tr>\n",
       "    <tr>\n",
       "      <th>1</th>\n",
       "      <td>536365</td>\n",
       "      <td>71053</td>\n",
       "      <td>WHITE METAL LANTERN</td>\n",
       "      <td>6</td>\n",
       "      <td>2010-12-01T08:26:00</td>\n",
       "      <td>3.39</td>\n",
       "      <td>17850.0</td>\n",
       "      <td>United Kingdom</td>\n",
       "      <td>2010</td>\n",
       "      <td>12</td>\n",
       "    </tr>\n",
       "    <tr>\n",
       "      <th>2</th>\n",
       "      <td>536365</td>\n",
       "      <td>84406B</td>\n",
       "      <td>CREAM CUPID HEARTS COAT HANGER</td>\n",
       "      <td>8</td>\n",
       "      <td>2010-12-01T08:26:00</td>\n",
       "      <td>2.75</td>\n",
       "      <td>17850.0</td>\n",
       "      <td>United Kingdom</td>\n",
       "      <td>2010</td>\n",
       "      <td>12</td>\n",
       "    </tr>\n",
       "    <tr>\n",
       "      <th>3</th>\n",
       "      <td>536365</td>\n",
       "      <td>84029G</td>\n",
       "      <td>KNITTED UNION FLAG HOT WATER BOTTLE</td>\n",
       "      <td>6</td>\n",
       "      <td>2010-12-01T08:26:00</td>\n",
       "      <td>3.39</td>\n",
       "      <td>17850.0</td>\n",
       "      <td>United Kingdom</td>\n",
       "      <td>2010</td>\n",
       "      <td>12</td>\n",
       "    </tr>\n",
       "    <tr>\n",
       "      <th>4</th>\n",
       "      <td>536365</td>\n",
       "      <td>84029E</td>\n",
       "      <td>RED WOOLLY HOTTIE WHITE HEART.</td>\n",
       "      <td>6</td>\n",
       "      <td>2010-12-01T08:26:00</td>\n",
       "      <td>3.39</td>\n",
       "      <td>17850.0</td>\n",
       "      <td>United Kingdom</td>\n",
       "      <td>2010</td>\n",
       "      <td>12</td>\n",
       "    </tr>\n",
       "  </tbody>\n",
       "</table>\n",
       "</div>"
      ],
      "text/plain": [
       "  invoiceno stockcode                          description  quantity  \\\n",
       "0    536365    85123A   WHITE HANGING HEART T-LIGHT HOLDER         6   \n",
       "1    536365     71053                  WHITE METAL LANTERN         6   \n",
       "2    536365    84406B       CREAM CUPID HEARTS COAT HANGER         8   \n",
       "3    536365    84029G  KNITTED UNION FLAG HOT WATER BOTTLE         6   \n",
       "4    536365    84029E       RED WOOLLY HOTTIE WHITE HEART.         6   \n",
       "\n",
       "           invoicedate  unitprice  customerid         country  year  month  \n",
       "0  2010-12-01T08:26:00       2.55     17850.0  United Kingdom  2010     12  \n",
       "1  2010-12-01T08:26:00       3.39     17850.0  United Kingdom  2010     12  \n",
       "2  2010-12-01T08:26:00       2.75     17850.0  United Kingdom  2010     12  \n",
       "3  2010-12-01T08:26:00       3.39     17850.0  United Kingdom  2010     12  \n",
       "4  2010-12-01T08:26:00       3.39     17850.0  United Kingdom  2010     12  "
      ]
     },
     "execution_count": 6,
     "metadata": {},
     "output_type": "execute_result"
    }
   ],
   "source": [
    "df.head()"
   ]
  },
  {
   "cell_type": "code",
   "execution_count": 7,
   "id": "793cfbfd-7cf3-4922-aa60-824ce00a512d",
   "metadata": {},
   "outputs": [],
   "source": [
    "categorical_features = ['stockcode', 'description', 'country', 'month', 'year']"
   ]
  },
  {
   "cell_type": "code",
   "execution_count": 8,
   "id": "a2750af0-6226-4f2f-ad51-b51e6c7a4dc0",
   "metadata": {},
   "outputs": [],
   "source": [
    "for column in categorical_features:\n",
    "  df[column] = df[column].astype('category').cat.codes"
   ]
  },
  {
   "cell_type": "code",
   "execution_count": 9,
   "id": "cf977256-8bfb-42f2-842f-4172ceee9917",
   "metadata": {},
   "outputs": [
    {
     "name": "stdout",
     "output_type": "stream",
     "text": [
      "       invoiceno  stockcode  description  quantity          invoicedate  \\\n",
      "0         536365       3249         3716         6  2010-12-01T08:26:00   \n",
      "1         536365       2649         3724         6  2010-12-01T08:26:00   \n",
      "2         536365       2855          861         8  2010-12-01T08:26:00   \n",
      "3         536365       2803         1813         6  2010-12-01T08:26:00   \n",
      "4         536365       2802         2776         6  2010-12-01T08:26:00   \n",
      "...          ...        ...          ...       ...                  ...   \n",
      "406824    581587       1470         2263        12  2011-12-09T12:50:00   \n",
      "406825    581587       1746          695         6  2011-12-09T12:50:00   \n",
      "406826    581587       2086          701         4  2011-12-09T12:50:00   \n",
      "406827    581587       2087          700         4  2011-12-09T12:50:00   \n",
      "406828    581587       1039          271         3  2011-12-09T12:50:00   \n",
      "\n",
      "        unitprice  customerid  country  year  month  \n",
      "0            2.55     17850.0       35     0     11  \n",
      "1            3.39     17850.0       35     0     11  \n",
      "2            2.75     17850.0       35     0     11  \n",
      "3            3.39     17850.0       35     0     11  \n",
      "4            3.39     17850.0       35     0     11  \n",
      "...           ...         ...      ...   ...    ...  \n",
      "406824       0.85     12680.0       13     1     11  \n",
      "406825       2.10     12680.0       13     1     11  \n",
      "406826       4.15     12680.0       13     1     11  \n",
      "406827       4.15     12680.0       13     1     11  \n",
      "406828       4.95     12680.0       13     1     11  \n",
      "\n",
      "[406829 rows x 10 columns]\n"
     ]
    }
   ],
   "source": [
    "print(df)"
   ]
  },
  {
   "cell_type": "code",
   "execution_count": null,
   "id": "3af960b9",
   "metadata": {},
   "outputs": [],
   "source": []
  },
  {
   "cell_type": "code",
   "execution_count": 13,
   "id": "a03e8d8f",
   "metadata": {},
   "outputs": [
    {
     "data": {
      "image/png": "[encoded data removed]",
      "text/plain": [
       "<Figure size 432x288 with 2 Axes>"
      ]
     },
     "metadata": {
      "needs_background": "light"
     },
     "output_type": "display_data"
    }
   ],
   "source": [
    "import matplotlib.pyplot as mp\n",
    "import pandas as pd\n",
    "import seaborn as sb\n",
    "corr = df.corr().round(3)\n",
    "dataplot = sb.heatmap(df.corr(), cmap=\"YlGnBu\", annot=True)\n",
    "  \n",
    "# displaying heatmap\n",
    "mp.show()"
   ]
  },
  {
   "cell_type": "code",
   "execution_count": 15,
   "id": "1f539e4a",
   "metadata": {},
   "outputs": [],
   "source": [
    "import numpy as np\n",
    "import pandas as pd\n",
    "from patsy import dmatrices\n",
    "\n",
    "from statsmodels.compat import lzip\n",
    "import statsmodels.api as sm\n",
    "from statsmodels.formula.api import ols\n",
    "from statsmodels.stats.outliers_influence import variance_inflation_factor\n",
    "\n",
    "import matplotlib.pyplot as plt\n",
    "import seaborn as sns\n",
    "\n",
    "%matplotlib inline\n",
    "plt.rc(\"figure\", figsize=(16, 8))\n",
    "plt.rc(\"font\", size=14)\n"
   ]
  },
  {
   "cell_type": "code",
   "execution_count": 16,
   "id": "d5f38846",
   "metadata": {},
   "outputs": [],
   "source": [
    "# estimate the model and save it as lm (linear model)\n",
    "lm = ols(\"quantity ~ month + year\", data=df).fit()"
   ]
  },
  {
   "cell_type": "code",
   "execution_count": 17,
   "id": "7c8b08ed-6859-491e-bc9f-04b9026216a2",
   "metadata": {},
   "outputs": [
    {
     "name": "stdout",
     "output_type": "stream",
     "text": [
      "                            OLS Regression Results                            \n",
      "==============================================================================\n",
      "Dep. Variable:               quantity   R-squared:                       0.000\n",
      "Model:                            OLS   Adj. R-squared:                  0.000\n",
      "Method:                 Least Squares   F-statistic:                     1.263\n",
      "Date:                Thu, 16 Jun 2022   Prob (F-statistic):              0.283\n",
      "Time:                        16:13:35   Log-Likelihood:            -2.8214e+06\n",
      "No. Observations:              406829   AIC:                         5.643e+06\n",
      "Df Residuals:                  406826   BIC:                         5.643e+06\n",
      "Df Model:                           2                                         \n",
      "Covariance Type:            nonrobust                                         \n",
      "==============================================================================\n",
      "                 coef    std err          t      P>|t|      [0.025      0.975]\n",
      "------------------------------------------------------------------------------\n",
      "Intercept     12.9432      2.021      6.404      0.000       8.982      16.905\n",
      "month         -0.1732      0.121     -1.428      0.153      -0.411       0.065\n",
      "year           0.2810      1.671      0.168      0.866      -2.994       3.556\n",
      "===============================================================================\n",
      "Omnibus:                   260504.476   Durbin-Watson:                    2.497\n",
      "Prob(Omnibus):                  0.000   Jarque-Bera (JB):   150794646672190.938\n",
      "Skew:                           0.181   Prob(JB):                          0.00\n",
      "Kurtosis:                   94320.576   Cond. No.                          49.5\n",
      "===============================================================================\n",
      "\n",
      "Notes:\n",
      "[1] Standard Errors assume that the covariance matrix of the errors is correctly specified.\n"
     ]
    }
   ],
   "source": [
    "print(lm.summary())"
   ]
  },
  {
   "cell_type": "code",
   "execution_count": null,
   "id": "1b0cab0a-4756-406c-8ae1-03e7ffe3e22c",
   "metadata": {},
   "outputs": [],
   "source": [
    "fig = sm.graphics.influence_plot(lm, criterion=\"cooks\")\n",
    "fig.tight_layout(pad=1.0)"
   ]
  },
  {
   "cell_type": "code",
   "execution_count": null,
   "id": "a733a5e6-3fc4-448e-ba1d-3871dcd3b91b",
   "metadata": {},
   "outputs": [],
   "source": []
  }
 ],
 "metadata": {
  "kernelspec": {
   "display_name": "Python 3 (ipykernel)",
   "language": "python",
   "name": "python3"
  },
  "language_info": {
   "codemirror_mode": {
    "name": "ipython",
    "version": 3
   },
   "file_extension": ".py",
   "mimetype": "text/x-python",
   "name": "python",
   "nbconvert_exporter": "python",
   "pygments_lexer": "ipython3",
   "version": "3.9.12"
  }
 },
 "nbformat": 4,
 "nbformat_minor": 5
}
