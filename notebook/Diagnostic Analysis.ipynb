{
 "cells": [
  {
   "cell_type": "code",
   "execution_count": 1,
   "id": "1883d582",
   "metadata": {},
   "outputs": [
    {
     "name": "stdout",
     "output_type": "stream",
     "text": [
      "        Unnamed: 0 invoiceno stockcode                          description  \\\n",
      "0                0    536365    85123A   WHITE HANGING HEART T-LIGHT HOLDER   \n",
      "1                1    536365     71053                  WHITE METAL LANTERN   \n",
      "2                2    536365    84406B       CREAM CUPID HEARTS COAT HANGER   \n",
      "3                3    536365    84029G  KNITTED UNION FLAG HOT WATER BOTTLE   \n",
      "4                4    536365    84029E       RED WOOLLY HOTTIE WHITE HEART.   \n",
      "...            ...       ...       ...                                  ...   \n",
      "406824      541904    581587     22613          PACK OF 20 SPACEBOY NAPKINS   \n",
      "406825      541905    581587     22899         CHILDREN'S APRON DOLLY GIRL    \n",
      "406826      541906    581587     23254        CHILDRENS CUTLERY DOLLY GIRL    \n",
      "406827      541907    581587     23255      CHILDRENS CUTLERY CIRCUS PARADE   \n",
      "406828      541908    581587     22138        BAKING SET 9 PIECE RETROSPOT    \n",
      "\n",
      "        quantity          invoicedate  unitprice  customerid         country  \n",
      "0              6  2010-12-01T08:26:00       2.55     17850.0  United Kingdom  \n",
      "1              6  2010-12-01T08:26:00       3.39     17850.0  United Kingdom  \n",
      "2              8  2010-12-01T08:26:00       2.75     17850.0  United Kingdom  \n",
      "3              6  2010-12-01T08:26:00       3.39     17850.0  United Kingdom  \n",
      "4              6  2010-12-01T08:26:00       3.39     17850.0  United Kingdom  \n",
      "...          ...                  ...        ...         ...             ...  \n",
      "406824        12  2011-12-09T12:50:00       0.85     12680.0          France  \n",
      "406825         6  2011-12-09T12:50:00       2.10     12680.0          France  \n",
      "406826         4  2011-12-09T12:50:00       4.15     12680.0          France  \n",
      "406827         4  2011-12-09T12:50:00       4.15     12680.0          France  \n",
      "406828         3  2011-12-09T12:50:00       4.95     12680.0          France  \n",
      "\n",
      "[406829 rows x 9 columns]\n"
     ]
    }
   ],
   "source": [
    "import pandas as pd\n",
    "\n",
    "df = pd.read_csv (r'C:\\Users\\BS917\\Desktop\\project\\DAAS_Retail\\data\\cleaned_online_retail.csv')\n",
    "print (df)"
   ]
  },
  {
   "cell_type": "code",
   "execution_count": 2,
   "id": "11d9fa01",
   "metadata": {},
   "outputs": [
    {
     "name": "stdout",
     "output_type": "stream",
     "text": [
      "<class 'pandas.core.frame.DataFrame'>\n",
      "RangeIndex: 406829 entries, 0 to 406828\n",
      "Data columns (total 9 columns):\n",
      " #   Column       Non-Null Count   Dtype  \n",
      "---  ------       --------------   -----  \n",
      " 0   Unnamed: 0   406829 non-null  int64  \n",
      " 1   invoiceno    406829 non-null  object \n",
      " 2   stockcode    406829 non-null  object \n",
      " 3   description  406829 non-null  object \n",
      " 4   quantity     406829 non-null  int64  \n",
      " 5   invoicedate  406829 non-null  object \n",
      " 6   unitprice    406829 non-null  float64\n",
      " 7   customerid   406829 non-null  float64\n",
      " 8   country      406829 non-null  object \n",
      "dtypes: float64(2), int64(2), object(5)\n",
      "memory usage: 27.9+ MB\n"
     ]
    }
   ],
   "source": [
    "df.info()"
   ]
  },
  {
   "cell_type": "code",
   "execution_count": 3,
   "id": "b34a6afd",
   "metadata": {
    "scrolled": true
   },
   "outputs": [],
   "source": [
    "import seaborn as sns"
   ]
  },
  {
   "cell_type": "code",
   "execution_count": 4,
   "id": "a03e8d8f",
   "metadata": {},
   "outputs": [
    {
     "data": {
      "image/png": "[encoded data removed]",
      "text/plain": [
       "<Figure size 432x288 with 2 Axes>"
      ]
     },
     "metadata": {
      "needs_background": "light"
     },
     "output_type": "display_data"
    }
   ],
   "source": [
    "ax = sns.heatmap(df.corr(), annot=True)"
   ]
  },
  {
   "cell_type": "code",
   "execution_count": 6,
   "id": "1f539e4a",
   "metadata": {},
   "outputs": [
    {
     "name": "stdout",
     "output_type": "stream",
     "text": [
      "Requirement already satisfied: data-inspector in c:\\users\\bs917\\anaconda3\\envs\\retail_env\\lib\\site-packages (0.0.3)\n",
      "Requirement already satisfied: matplotlib in c:\\users\\bs917\\anaconda3\\envs\\retail_env\\lib\\site-packages (from data-inspector) (3.5.1)\n",
      "Requirement already satisfied: seaborn in c:\\users\\bs917\\anaconda3\\envs\\retail_env\\lib\\site-packages (from data-inspector) (0.11.2)\n",
      "Requirement already satisfied: scipy in c:\\users\\bs917\\anaconda3\\envs\\retail_env\\lib\\site-packages (from data-inspector) (1.7.3)\n",
      "Requirement already satisfied: numpy in c:\\users\\bs917\\anaconda3\\envs\\retail_env\\lib\\site-packages (from data-inspector) (1.22.3)\n",
      "Requirement already satisfied: pandas in c:\\users\\bs917\\anaconda3\\envs\\retail_env\\lib\\site-packages (from data-inspector) (1.4.2)\n",
      "Requirement already satisfied: pyparsing>=2.2.1 in c:\\users\\bs917\\anaconda3\\envs\\retail_env\\lib\\site-packages (from matplotlib->data-inspector) (3.0.4)\n",
      "Requirement already satisfied: pillow>=6.2.0 in c:\\users\\bs917\\anaconda3\\envs\\retail_env\\lib\\site-packages (from matplotlib->data-inspector) (9.0.1)\n",
      "Requirement already satisfied: python-dateutil>=2.7 in c:\\users\\bs917\\anaconda3\\envs\\retail_env\\lib\\site-packages (from matplotlib->data-inspector) (2.8.2)\n",
      "Requirement already satisfied: fonttools>=4.22.0 in c:\\users\\bs917\\anaconda3\\envs\\retail_env\\lib\\site-packages (from matplotlib->data-inspector) (4.25.0)\n",
      "Requirement already satisfied: kiwisolver>=1.0.1 in c:\\users\\bs917\\anaconda3\\envs\\retail_env\\lib\\site-packages (from matplotlib->data-inspector) (1.4.2)\n",
      "Requirement already satisfied: cycler>=0.10 in c:\\users\\bs917\\anaconda3\\envs\\retail_env\\lib\\site-packages (from matplotlib->data-inspector) (0.11.0)\n",
      "Requirement already satisfied: packaging>=20.0 in c:\\users\\bs917\\anaconda3\\envs\\retail_env\\lib\\site-packages (from matplotlib->data-inspector) (21.3)\n",
      "Requirement already satisfied: six>=1.5 in c:\\users\\bs917\\anaconda3\\envs\\retail_env\\lib\\site-packages (from python-dateutil>=2.7->matplotlib->data-inspector) (1.16.0)\n",
      "Requirement already satisfied: pytz>=2020.1 in c:\\users\\bs917\\anaconda3\\envs\\retail_env\\lib\\site-packages (from pandas->data-inspector) (2022.1)\n",
      "Note: you may need to restart the kernel to use updated packages.\n"
     ]
    }
   ],
   "source": [
    "pip install data-inspector"
   ]
  },
  {
   "cell_type": "code",
   "execution_count": 7,
   "id": "d5f38846",
   "metadata": {},
   "outputs": [
    {
     "ename": "ModuleNotFoundError",
     "evalue": "No module named 'data_inspector'",
     "output_type": "error",
     "traceback": [
      "\u001b[1;31m---------------------------------------------------------------------------\u001b[0m",
      "\u001b[1;31mModuleNotFoundError\u001b[0m                       Traceback (most recent call last)",
      "Input \u001b[1;32mIn [7]\u001b[0m, in \u001b[0;36m<cell line: 1>\u001b[1;34m()\u001b[0m\n\u001b[1;32m----> 1\u001b[0m \u001b[38;5;28;01mimport\u001b[39;00m \u001b[38;5;21;01mdata_inspector\u001b[39;00m \u001b[38;5;28;01mas\u001b[39;00m \u001b[38;5;21;01mdi\u001b[39;00m\n",
      "\u001b[1;31mModuleNotFoundError\u001b[0m: No module named 'data_inspector'"
     ]
    }
   ],
   "source": [
    "import data_inspector as di"
   ]
  },
  {
   "cell_type": "code",
   "execution_count": null,
   "id": "7c8b08ed-6859-491e-bc9f-04b9026216a2",
   "metadata": {},
   "outputs": [],
   "source": []
  }
 ],
 "metadata": {
  "kernelspec": {
   "display_name": "Python 3 (ipykernel)",
   "language": "python",
   "name": "python3"
  },
  "language_info": {
   "codemirror_mode": {
    "name": "ipython",
    "version": 3
   },
   "file_extension": ".py",
   "mimetype": "text/x-python",
   "name": "python",
   "nbconvert_exporter": "python",
   "pygments_lexer": "ipython3",
   "version": "3.9.12"
  }
 },
 "nbformat": 4,
 "nbformat_minor": 5
}
