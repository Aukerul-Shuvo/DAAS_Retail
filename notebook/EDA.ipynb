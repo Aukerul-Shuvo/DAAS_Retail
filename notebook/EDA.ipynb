{
 "cells": [
  {
   "cell_type": "code",
   "execution_count": 2,
   "id": "9fb76410",
   "metadata": {},
   "outputs": [
    {
     "name": "stdout",
     "output_type": "stream",
     "text": [
      "       invoiceno stockcode                          description  quantity  \\\n",
      "0         536365    85123A   WHITE HANGING HEART T-LIGHT HOLDER         6   \n",
      "1         536365     71053                  WHITE METAL LANTERN         6   \n",
      "2         536365    84406B       CREAM CUPID HEARTS COAT HANGER         8   \n",
      "3         536365    84029G  KNITTED UNION FLAG HOT WATER BOTTLE         6   \n",
      "4         536365    84029E       RED WOOLLY HOTTIE WHITE HEART.         6   \n",
      "...          ...       ...                                  ...       ...   \n",
      "541904    581587     22613          PACK OF 20 SPACEBOY NAPKINS        12   \n",
      "541905    581587     22899         CHILDREN'S APRON DOLLY GIRL          6   \n",
      "541906    581587     23254        CHILDRENS CUTLERY DOLLY GIRL          4   \n",
      "541907    581587     23255      CHILDRENS CUTLERY CIRCUS PARADE         4   \n",
      "541908    581587     22138        BAKING SET 9 PIECE RETROSPOT          3   \n",
      "\n",
      "                invoicedate  unitprice  customerid         country  \n",
      "0       2010-12-01T08:26:00       2.55     17850.0  United Kingdom  \n",
      "1       2010-12-01T08:26:00       3.39     17850.0  United Kingdom  \n",
      "2       2010-12-01T08:26:00       2.75     17850.0  United Kingdom  \n",
      "3       2010-12-01T08:26:00       3.39     17850.0  United Kingdom  \n",
      "4       2010-12-01T08:26:00       3.39     17850.0  United Kingdom  \n",
      "...                     ...        ...         ...             ...  \n",
      "541904  2011-12-09T12:50:00       0.85     12680.0          France  \n",
      "541905  2011-12-09T12:50:00       2.10     12680.0          France  \n",
      "541906  2011-12-09T12:50:00       4.15     12680.0          France  \n",
      "541907  2011-12-09T12:50:00       4.15     12680.0          France  \n",
      "541908  2011-12-09T12:50:00       4.95     12680.0          France  \n",
      "\n",
      "[541909 rows x 8 columns]\n"
     ]
    }
   ],
   "source": [
    "#Importing Online Retyail Dataset\n",
    "import pandas as pd\n",
    "\n",
    "raw_df = pd.read_csv ('../data/raw_online_retail.csv')\n",
    "print (raw_df)"
   ]
  },
  {
   "cell_type": "code",
   "execution_count": 2,
   "id": "ad515d1a",
   "metadata": {},
   "outputs": [
    {
     "name": "stdout",
     "output_type": "stream",
     "text": [
      "<class 'pandas.core.frame.DataFrame'>\n",
      "RangeIndex: 541909 entries, 0 to 541908\n",
      "Data columns (total 8 columns):\n",
      " #   Column       Non-Null Count   Dtype  \n",
      "---  ------       --------------   -----  \n",
      " 0   invoiceno    541909 non-null  object \n",
      " 1   stockcode    541909 non-null  object \n",
      " 2   description  540455 non-null  object \n",
      " 3   quantity     541909 non-null  int64  \n",
      " 4   invoicedate  541909 non-null  object \n",
      " 5   unitprice    541909 non-null  float64\n",
      " 6   customerid   406829 non-null  float64\n",
      " 7   country      541909 non-null  object \n",
      "dtypes: float64(2), int64(1), object(5)\n",
      "memory usage: 33.1+ MB\n"
     ]
    }
   ],
   "source": [
    "#Dataset Info\n",
    "raw_df.info()"
   ]
  },
  {
   "cell_type": "code",
   "execution_count": 3,
   "id": "06eaf48d",
   "metadata": {},
   "outputs": [],
   "source": [
    "#Removing Null Values\n",
    "cleaned_df = raw_df.dropna()"
   ]
  },
  {
   "cell_type": "code",
   "execution_count": 4,
   "id": "077bf8be",
   "metadata": {},
   "outputs": [
    {
     "name": "stdout",
     "output_type": "stream",
     "text": [
      "       invoiceno stockcode                          description  quantity  \\\n",
      "0         536365    85123A   WHITE HANGING HEART T-LIGHT HOLDER         6   \n",
      "1         536365     71053                  WHITE METAL LANTERN         6   \n",
      "2         536365    84406B       CREAM CUPID HEARTS COAT HANGER         8   \n",
      "3         536365    84029G  KNITTED UNION FLAG HOT WATER BOTTLE         6   \n",
      "4         536365    84029E       RED WOOLLY HOTTIE WHITE HEART.         6   \n",
      "...          ...       ...                                  ...       ...   \n",
      "541904    581587     22613          PACK OF 20 SPACEBOY NAPKINS        12   \n",
      "541905    581587     22899         CHILDREN'S APRON DOLLY GIRL          6   \n",
      "541906    581587     23254        CHILDRENS CUTLERY DOLLY GIRL          4   \n",
      "541907    581587     23255      CHILDRENS CUTLERY CIRCUS PARADE         4   \n",
      "541908    581587     22138        BAKING SET 9 PIECE RETROSPOT          3   \n",
      "\n",
      "                invoicedate  unitprice  customerid         country  \n",
      "0       2010-12-01T08:26:00       2.55     17850.0  United Kingdom  \n",
      "1       2010-12-01T08:26:00       3.39     17850.0  United Kingdom  \n",
      "2       2010-12-01T08:26:00       2.75     17850.0  United Kingdom  \n",
      "3       2010-12-01T08:26:00       3.39     17850.0  United Kingdom  \n",
      "4       2010-12-01T08:26:00       3.39     17850.0  United Kingdom  \n",
      "...                     ...        ...         ...             ...  \n",
      "541904  2011-12-09T12:50:00       0.85     12680.0          France  \n",
      "541905  2011-12-09T12:50:00       2.10     12680.0          France  \n",
      "541906  2011-12-09T12:50:00       4.15     12680.0          France  \n",
      "541907  2011-12-09T12:50:00       4.15     12680.0          France  \n",
      "541908  2011-12-09T12:50:00       4.95     12680.0          France  \n",
      "\n",
      "[406829 rows x 8 columns]\n"
     ]
    }
   ],
   "source": [
    "print(cleaned_df)"
   ]
  },
  {
   "cell_type": "code",
   "execution_count": 7,
   "id": "a90bedeb",
   "metadata": {},
   "outputs": [
    {
     "data": {
      "text/plain": [
       "invoiceno      22190\n",
       "stockcode       3684\n",
       "description     3896\n",
       "quantity         436\n",
       "invoicedate    20460\n",
       "unitprice        620\n",
       "customerid      4372\n",
       "country           37\n",
       "dtype: int64"
      ]
     },
     "execution_count": 7,
     "metadata": {},
     "output_type": "execute_result"
    }
   ],
   "source": [
    "cleaned_df.nunique()"
   ]
  },
  {
   "cell_type": "code",
   "execution_count": 10,
   "id": "2605f179",
   "metadata": {},
   "outputs": [],
   "source": [
    "cleaned_df.to_csv(r'C:\\Users\\BS917\\Desktop\\project\\data\\cleaned_online_retail.csv')"
   ]
  },
  {
   "cell_type": "code",
   "execution_count": null,
   "id": "a429ab49",
   "metadata": {},
   "outputs": [],
   "source": []
  }
 ],
 "metadata": {
  "kernelspec": {
   "display_name": "Python 3 (ipykernel)",
   "language": "python",
   "name": "python3"
  },
  "language_info": {
   "codemirror_mode": {
    "name": "ipython",
    "version": 3
   },
   "file_extension": ".py",
   "mimetype": "text/x-python",
   "name": "python",
   "nbconvert_exporter": "python",
   "pygments_lexer": "ipython3",
   "version": "3.9.12"
  }
 },
 "nbformat": 4,
 "nbformat_minor": 5
}
